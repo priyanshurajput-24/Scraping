{
  "nbformat": 4,
  "nbformat_minor": 0,
  "metadata": {
    "colab": {
      "name": "wikipedia_library.ipynb",
      "provenance": []
    },
    "kernelspec": {
      "name": "python3",
      "display_name": "Python 3"
    },
    "language_info": {
      "name": "python"
    }
  },
  "cells": [
    {
      "cell_type": "code",
      "execution_count": null,
      "metadata": {
        "colab": {
          "base_uri": "https://localhost:8080/"
        },
        "id": "B7ynpU5uL4zv",
        "outputId": "a8e82115-61e0-4504-8d03-975a59f0a6ca"
      },
      "outputs": [
        {
          "output_type": "stream",
          "name": "stdout",
          "text": [
            "Collecting Wikipedia\n",
            "  Downloading wikipedia-1.4.0.tar.gz (27 kB)\n",
            "Requirement already satisfied: beautifulsoup4 in /usr/local/lib/python3.7/dist-packages (from Wikipedia) (4.6.3)\n",
            "Requirement already satisfied: requests<3.0.0,>=2.0.0 in /usr/local/lib/python3.7/dist-packages (from Wikipedia) (2.23.0)\n",
            "Requirement already satisfied: chardet<4,>=3.0.2 in /usr/local/lib/python3.7/dist-packages (from requests<3.0.0,>=2.0.0->Wikipedia) (3.0.4)\n",
            "Requirement already satisfied: idna<3,>=2.5 in /usr/local/lib/python3.7/dist-packages (from requests<3.0.0,>=2.0.0->Wikipedia) (2.10)\n",
            "Requirement already satisfied: certifi>=2017.4.17 in /usr/local/lib/python3.7/dist-packages (from requests<3.0.0,>=2.0.0->Wikipedia) (2021.10.8)\n",
            "Requirement already satisfied: urllib3!=1.25.0,!=1.25.1,<1.26,>=1.21.1 in /usr/local/lib/python3.7/dist-packages (from requests<3.0.0,>=2.0.0->Wikipedia) (1.24.3)\n",
            "Building wheels for collected packages: Wikipedia\n",
            "  Building wheel for Wikipedia (setup.py) ... \u001b[?25l\u001b[?25hdone\n",
            "  Created wheel for Wikipedia: filename=wikipedia-1.4.0-py3-none-any.whl size=11695 sha256=3a60f62eb7ceb99f139260b504e3ab384774f9b0396513fc36b20348fb2a427e\n",
            "  Stored in directory: /root/.cache/pip/wheels/15/93/6d/5b2c68b8a64c7a7a04947b4ed6d89fb557dcc6bc27d1d7f3ba\n",
            "Successfully built Wikipedia\n",
            "Installing collected packages: Wikipedia\n",
            "Successfully installed Wikipedia-1.4.0\n"
          ]
        }
      ],
      "source": [
        "!pip install Wikipedia "
      ]
    },
    {
      "cell_type": "code",
      "source": [
        "import wikipedia as wk\n"
      ],
      "metadata": {
        "id": "hBi8MHZIL_ZY"
      },
      "execution_count": null,
      "outputs": []
    },
    {
      "cell_type": "code",
      "source": [
        "print(wk.search(\"delhi\")) "
      ],
      "metadata": {
        "colab": {
          "base_uri": "https://localhost:8080/"
        },
        "id": "tyrEVHtzMYss",
        "outputId": "801c9c8d-80d4-4f3a-a95b-bf336b7b2eeb"
      },
      "execution_count": null,
      "outputs": [
        {
          "output_type": "stream",
          "name": "stdout",
          "text": [
            "['Delhi', 'New Delhi', 'Delhi Gate, Delhi', 'Delhi Sultanate', 'Delhi University', 'Delhi Capitals', 'Delhi Metro', 'North Delhi', 'Delhi Durbar', 'West Delhi']\n"
          ]
        }
      ]
    },
    {
      "cell_type": "code",
      "source": [
        "wk.search(\"IIT Madras\")"
      ],
      "metadata": {
        "colab": {
          "base_uri": "https://localhost:8080/"
        },
        "id": "Zv2JLoFHcDGE",
        "outputId": "d7ba3f44-f2a2-49e7-8882-d6b296541df9"
      },
      "execution_count": null,
      "outputs": [
        {
          "output_type": "execute_result",
          "data": {
            "text/plain": [
              "['IIT Madras',\n",
              " 'Indian Institutes of Technology',\n",
              " 'Joint Entrance Examination – Advanced',\n",
              " 'Inter IIT Sports Meet',\n",
              " 'List of IIT Madras people',\n",
              " 'Ashok Leyland',\n",
              " 'Department of Management Studies IIT Madras',\n",
              " 'IIT Tirupati',\n",
              " 'IIT Palakkad',\n",
              " 'IIT Kharagpur']"
            ]
          },
          "metadata": {},
          "execution_count": 4
        }
      ]
    },
    {
      "cell_type": "code",
      "source": [
        "print(wk.search(\"IIT Madras\",results = 4)) "
      ],
      "metadata": {
        "colab": {
          "base_uri": "https://localhost:8080/"
        },
        "id": "WnQwAycRcOWz",
        "outputId": "e95c853c-1631-4fe3-d45f-24d897c23e6e"
      },
      "execution_count": null,
      "outputs": [
        {
          "output_type": "stream",
          "name": "stdout",
          "text": [
            "['IIT Madras', 'Indian Institutes of Technology', 'Joint Entrance Examination – Advanced', 'Inter IIT Sports Meet']\n"
          ]
        }
      ]
    },
    {
      "cell_type": "code",
      "source": [
        "wk.summary(\"IIT Madras\")"
      ],
      "metadata": {
        "colab": {
          "base_uri": "https://localhost:8080/",
          "height": 157
        },
        "id": "Ed084S-2cll8",
        "outputId": "d5f46728-5f99-4e24-9a27-2c32d81b1e7c"
      },
      "execution_count": null,
      "outputs": [
        {
          "output_type": "execute_result",
          "data": {
            "application/vnd.google.colaboratory.intrinsic+json": {
              "type": "string"
            },
            "text/plain": [
              "\"Indian Institute of Technology Madras (IIT Madras) is a public technical university located in Chennai (formerly named as Madras), Tamil Nadu, India. As one of the Indian Institutes of Technology (IITs), it is recognized as an Institute of National Importance, and has been consistently rated as one of India's most prestigious universities. Founded in 1959 with technical and financial assistance from the former government of West Germany, it was the third IIT established by the Government of India. IIT Madras is ranked the top engineering institute in India by the Ministry of Education's National Institutional Ranking Framework since its inception in 2016.IIT Madras is a residential institute that occupies a 2.5-square-kilometre (0.97 sq mi) campus that was formerly part of the adjoining Guindy National Park. The institute has nearly 600 faculty, 10,000 students and 1,250 administrative and supporting staff. Growing ever since it obtained its charter from the Indian Parliament in 1961, much of the campus is a protected forest, carved out of the Guindy National Park, home to large numbers of chital (spotted deer), black buck, bonnet macaque, and other rare wildlife. A natural lake, deepened in 1988 and 2003, drains most of its rainwater.\""
            ]
          },
          "metadata": {},
          "execution_count": 7
        }
      ]
    },
    {
      "cell_type": "code",
      "source": [
        "wk.summary(\"ece bikaner\")"
      ],
      "metadata": {
        "colab": {
          "base_uri": "https://localhost:8080/",
          "height": 53
        },
        "id": "uvUcqMSlcxCw",
        "outputId": "6493bb42-7fb8-499d-d9cf-bb2315b5fc46"
      },
      "execution_count": null,
      "outputs": [
        {
          "output_type": "execute_result",
          "data": {
            "application/vnd.google.colaboratory.intrinsic+json": {
              "type": "string"
            },
            "text/plain": [
              "'Government Engineering College Bikaner, located in Bikaner, is an educational institution of the government of Rajasthan, India. The institute is affiliated with the Bikaner Technical University.'"
            ]
          },
          "metadata": {},
          "execution_count": 8
        }
      ]
    },
    {
      "cell_type": "code",
      "source": [
        "wk.summary(\"jabalpur\")"
      ],
      "metadata": {
        "colab": {
          "base_uri": "https://localhost:8080/",
          "height": 122
        },
        "id": "9m_cfPrzg8nr",
        "outputId": "0ec188ee-dd82-47dd-f510-eb20ec00ebc8"
      },
      "execution_count": null,
      "outputs": [
        {
          "output_type": "execute_result",
          "data": {
            "application/vnd.google.colaboratory.intrinsic+json": {
              "type": "string"
            },
            "text/plain": [
              "\"Jabalpur (formerly Jubbulpore) is a tier 2 city situated on the banks of holy Narmada River in the state of Madhya Pradesh, India. According to the 2011 census, it is the third-largest urban agglomeration in Madhya Pradesh and the country's 37th-largest urban agglomeration. Jabalpur is an important Administrative, Industrial and Business center of Madhya Pradesh. It is a major education hub in India. The Madhya Pradesh High Court and other important Administrative Headquarters of India and Madhya Pradesh are situated in Jabalpur. It is generally accepted that the game of Snooker originated in Jabalpur. Jabalpur is the administrative headquarters of Jabalpur district (the second-most-populous district in Madhya Pradesh) and the Jabalpur division. The city is known for the marble rocks on the river Narmada at Bhedaghat.\""
            ]
          },
          "metadata": {},
          "execution_count": 9
        }
      ]
    },
    {
      "cell_type": "code",
      "source": [
        "wk.summary(\"PYTHON\", sentences = 2)"
      ],
      "metadata": {
        "colab": {
          "base_uri": "https://localhost:8080/",
          "height": 53
        },
        "id": "4O2TLim9hAjw",
        "outputId": "1253c9e5-1c93-4490-b952-4558bc329871"
      },
      "execution_count": null,
      "outputs": [
        {
          "output_type": "execute_result",
          "data": {
            "application/vnd.google.colaboratory.intrinsic+json": {
              "type": "string"
            },
            "text/plain": [
              "'Python is an interpreted high-level general-purpose programming language. Its design philosophy emphasizes code readability with its use of significant indentation.'"
            ]
          },
          "metadata": {},
          "execution_count": 25
        }
      ]
    },
    {
      "cell_type": "code",
      "source": [
        "full_page = wk.page(\"Mandarin\")"
      ],
      "metadata": {
        "id": "jByb6xFVhIFX"
      },
      "execution_count": null,
      "outputs": []
    },
    {
      "cell_type": "code",
      "source": [
        "print(full_page.content)"
      ],
      "metadata": {
        "colab": {
          "base_uri": "https://localhost:8080/"
        },
        "id": "cxHtIojGinzL",
        "outputId": "9a3cb855-9948-47ec-ec6d-26c52487ad6e"
      },
      "execution_count": null,
      "outputs": [
        {
          "output_type": "stream",
          "name": "stdout",
          "text": [
            "Mandarin ( (listen); simplified Chinese: 官话; traditional Chinese: 官話; pinyin: Guānhuà; lit. 'speech of officials') is a group of Sinitic (Chinese) languages natively spoken across most of northern and southwestern China. The group includes the Beijing dialect, the basis of the phonology of Standard Chinese. Because Mandarin originated in North China and most Mandarin dialects are found in the north, the group is sometimes referred to as Northern Chinese (simplified Chinese: 北方话; traditional Chinese: 北方話; pinyin: Běifānghuà; lit. 'northern speech'). Many varieties of Mandarin, such as those of the Southwest (including Sichuanese) and the Lower Yangtze, are not mutually intelligible or are only partially intelligible with the standard language. Nevertheless, Mandarin is often placed first in lists of languages by number of native speakers (with nearly a billion).\n",
            "Mandarin is by far the largest of the seven or ten Chinese dialect groups, spoken by 70 percent of all Chinese speakers over a large geographical area, stretching from Yunnan in the southwest to Xinjiang in the northwest and Heilongjiang in the northeast. This is generally attributed to the greater ease of travel and communication in the North China Plain compared to the more mountainous south, combined with the relatively recent spread of Mandarin to frontier areas.\n",
            "Most Mandarin varieties have four tones. The final stops of Middle Chinese have disappeared in most of these varieties, but some have merged them as a final glottal stop. Many Mandarin varieties, including the Beijing dialect, retain retroflex initial consonants, which have been lost in southern varieties of Chinese.\n",
            "The Chinese capital has been within the Mandarin-speaking area for most of the last millennium, making these dialects very influential. Some form of Mandarin has served as a lingua franca for government officials and the courts since the 14th century. By the early 20th century, a standard form based on the Beijing dialect, with elements from other Mandarin dialects, was adopted as the national language. Standard Mandarin Chinese is the official language of the People's Republic of China and Taiwan, as well as one of the four official languages of Singapore. It is also used as one of the official languages of the United Nations. Recent increased migration from Mandarin-speaking regions of China and Taiwan has now resulted in the language being one of the more frequently used varieties of Chinese among Chinese diaspora communities. It is also the most commonly taught Chinese variety.\n",
            "\n",
            "\n",
            "== Name ==\n",
            "The English word \"mandarin\" (from Portuguese mandarim, from Malay menteri, from Sanskrit mantrī, mantrin, meaning 'minister or counsellor') originally meant an official of the Ming and Qing empires.\n",
            "Since their native varieties were often mutually unintelligible, these officials communicated using a Koiné language based on various northern varieties. When Jesuit missionaries learned this standard language in the 16th century, they called it \"Mandarin\", from its Chinese name Guānhuà (官话/官話) or 'language of the officials'.In everyday English, \"Mandarin\" refers to Standard Chinese, which is often called simply \"Chinese\". Standard Mandarin Chinese is based on the particular dialect spoken in Beijing, with some lexical and syntactic influence from other Mandarin dialects. It is the official spoken language of the People's Republic of China (PRC) and Taiwan (Republic of China, ROC), as well as one of the four official languages of Singapore. It also functions as the language of instruction in Mainland China and Taiwan. It is one of the six official languages of the United Nations, under the name \"Chinese\". Chinese speakers refer to the modern standard language as\n",
            "\n",
            "Pǔtōnghuà (普通话/普通話, literally 'common speech') in Mainland China,\n",
            "Guóyǔ (国语/國語, literally 'national language') in Taiwan or\n",
            "Huáyǔ (华语/華語, literally 'Hua (Chinese) language') in Malaysia and Singapore,but not as Guānhuà.Linguists use the term \"Mandarin\" to refer to the diverse group of dialects spoken in northern and southwestern China, which Chinese linguists call Guānhuà. The alternative term Běifānghuà (北方话/北方話) or \"Northern dialects\", is used less and less among Chinese linguists. By extension, the term \"Old Mandarin\" or \"Early Mandarin\" is used by linguists to refer to the northern dialects recorded in materials from the Yuan dynasty.\n",
            "Native speakers who are not academic linguists may not recognize that the variants they speak are classified in linguistics as members of \"Mandarin\" (or so-called \"Northern dialects\") in a broader sense. Within Chinese social or cultural discourse, there is not a common \"Mandarin\" identity based on language; rather, there are strong regional identities centred on individual dialects because of the wide geographical distribution and cultural diversity of their speakers. Speakers of forms of Mandarin other than the standard typically refer to the variety they speak by a geographic name—for example the Sichuan dialect and the Hebei dialect or Northeastern dialect, all being regarded as distinct from the standard language.\n",
            "\n",
            "\n",
            "== History ==\n",
            "\n",
            "The hundreds of modern local varieties of Chinese developed from regional variants of Old Chinese and Middle Chinese. Traditionally, seven major groups of dialects have been recognized. Aside from Mandarin, the other six are Wu, Gan, and Xiang in central China and Min, Hakka, and Yue on the southeast coast. The Language Atlas of China (1987) distinguishes three further groups: Jin (split from Mandarin), Huizhou in the Huizhou region of Anhui and Zhejiang, and Pinghua in Guangxi and Yunnan.\n",
            "\n",
            "\n",
            "=== Old Mandarin ===\n",
            "\n",
            "After the fall of the Northern Song (959–1126) and during the reign of the Jin (1115–1234) and Yuan (Mongol) dynasties in northern China, a common form of speech developed based on the dialects of the North China Plain around the capital, a language referred to as Old Mandarin. New genres of vernacular literature were based on this language, including verse, drama and story forms, such as the qu and sanqu poetry.The rhyming conventions of the new verse were codified in a rime dictionary called the Zhongyuan Yinyun (1324). A radical departure from the rime table tradition that had evolved over the previous centuries, this dictionary contains a wealth of information on the phonology of Old Mandarin. Further sources are the 'Phags-pa script based on the Tibetan alphabet, which was used to write several of the languages of the Mongol empire, including Chinese and the Menggu Ziyun, a rime dictionary based on 'Phags-pa. The rime books differ in some details, but overall show many of the features characteristic of modern Mandarin dialects, such as the reduction and disappearance of final plosives and the reorganization of the Middle Chinese tones.In Middle Chinese, initial stops and affricates showed a three-way contrast between tenuis, voiceless aspirated and voiced consonants. There were four tones, with the fourth or \"entering tone\", a checked tone comprising syllables ending in plosives (-p, -t or -k). Syllables with voiced initials tended to be pronounced with a lower pitch and by the late Tang dynasty, each of the tones had split into two registers conditioned by the initials. When voicing was lost in all languages except the Wu subfamily, this distinction became phonemic and the system of initials and tones was rearranged differently in each of the major groups.The Zhongyuan Yinyun shows the typical Mandarin four-tone system resulting from a split of the \"even\" tone and loss of the entering tone, with its syllables distributed across the other tones (though their different origin is marked in the dictionary). Similarly, voiced plosives and affricates have become voiceless aspirates in the \"even\" tone and voiceless non-aspirates in others, another distinctive Mandarin development. However, the language still retained a final -m, which has merged with -n in modern dialects and initial voiced fricatives. It also retained the distinction between velars and alveolar sibilants in palatal environments, which later merged in most Mandarin dialects to yield a palatal series (rendered j-, q- and x- in pinyin).The flourishing vernacular literature of the period also shows distinctively Mandarin vocabulary and syntax, though some, such as the third-person pronoun tā (他), can be traced back to the Tang dynasty.\n",
            "\n",
            "\n",
            "=== Vernacular literature ===\n",
            "Until the early 20th century, formal writing and even much poetry and fiction was done in Literary Chinese, which was modeled on the classics of the Warring States period and the Han dynasty. Over time, the various spoken varieties diverged greatly from Literary Chinese, which was learned and composed as a special language. Preserved from the sound changes that affected the various spoken varieties, its economy of expression was greatly valued. For example, 翼 (yì, \"wing\") is unambiguous in written Chinese, but has over 75 homophones in Standard Chinese.\n",
            "The literary language was less appropriate for recording materials that were meant to be reproduced in oral presentations, materials such as plays and grist for the professional story-teller's mill. From at least the Yuan dynasty plays that recounted the subversive tales of China's Robin Hoods to the Ming dynasty novels such as Water Margin, on down to the Qing dynasty novel Dream of the Red Chamber and beyond, there developed a literature in written vernacular Chinese (白話/白话, báihuà). In many cases, this written language reflected Mandarin varieties and since pronunciation differences were not conveyed in this written form, this tradition had a unifying force across all the Mandarin-speaking regions and beyond.Hu Shih, a pivotal figure of the first half of the twentieth century, wrote an influential and perceptive study of this literary tradition, entitled Báihuà Wénxuéshǐ (\"A History of Vernacular Literature\").\n",
            "\n",
            "\n",
            "=== Koiné of the Late Empire ===\n",
            "\n",
            "Until the mid-20th century, most Chinese people living in many parts of South China spoke only their local variety. As a practical measure, officials of the Ming and Qing dynasties carried out the administration of the empire using a common language based on Mandarin varieties, known as Guānhuà. Knowledge of this language was thus essential for an official career, but it was never formally defined.Officials varied widely in their pronunciation; in 1728, the Yongzheng Emperor, unable to understand the accents of officials from Guangdong and Fujian, issued a decree requiring the governors of those provinces to provide for the teaching of proper pronunciation. Although the resulting Academies for Correct Pronunciation (正音書院; Zhèngyīn Shūyuàn) were short-lived, the decree did spawn a number of textbooks that give some insight into the ideal pronunciation. Common features included:\n",
            "\n",
            "loss of the Middle Chinese voiced initials except for v-\n",
            "merger of -m finals with -n\n",
            "the characteristic Mandarin four-tone system in open syllables, but retaining a final glottal stop in \"entering tone\" syllables\n",
            "retention of the distinction between palatalized velars and dental affricates, the source of the spellings \"Peking\" and \"Tientsin\" for modern \"Beijing\" and \"Tianjin\".As the last two of these features indicate, this language was a koiné based on dialects spoken in the Nanjing area, though not identical to any single dialect. This form remained prestigious long after the capital moved to Beijing in 1421, though the speech of the new capital emerged as a rival standard. As late as 1815, Robert Morrison based the first English–Chinese dictionary on this koiné as the standard of the time, though he conceded that the Beijing dialect was gaining in influence. By the middle of the 19th century, the Beijing dialect had become dominant and was essential for any business with the imperial court.\n",
            "\n",
            "\n",
            "=== Standard Mandarin Chinese ===\n",
            "\n",
            "The variant of Mandarin as spoken by educated classes in Beijing was made the official language of China by the Qing dynasty in the early 1900s and the successive Republican government. In the early years of the Republic of China, intellectuals of the New Culture Movement, such as Hu Shih and Chen Duxiu, successfully campaigned for the replacement of Literary Chinese as the written standard by written vernacular Chinese, which was based on northern dialects. A parallel priority was the definition of a standard national language (traditional Chinese: 國語; simplified Chinese: 国语; pinyin: Guóyǔ; Wade–Giles: Kuo²-yü³). After much dispute between proponents of northern and southern dialects and an abortive attempt at an artificial pronunciation, the National Language Unification Commission finally settled on the Beijing dialect in 1932. The People's Republic, founded in 1949, retained this standard, calling it pǔtōnghuà (simplified Chinese: 普通话; traditional Chinese: 普通話; lit. 'common speech'). Some 54% of speakers of Mandarin varieties could understand the standard language in the early 1950s, rising to 91% in 1984.  Nationally, the proportion understanding the standard rose from 41% to 90% over the same period.This standard language is now used in education, the media, and formal occasions in both Mainland China and Taiwan, as well as among the Chinese community of Singapore. However in other parts of the Chinese-speaking world, namely Hong Kong and Macau, the standard form of Chinese used in education, the media, formal speech, and everyday life remains the local Cantonese because of their colonial and linguistic history. While Standard Mandarin is now the medium of instruction in schools throughout China, it still has yet to gain traction as a common language among the local population in areas where Mandarin dialects are not native. In these regions,  people may be either diglossic or speak the standard language with a notable accent. However since the 21st century, there has been an effort of mass education in Standard Mandarin Chinese and discouragement of local language usage by the Chinese government in order to erase these regional differences.From an official point of view, the mainland Chinese and the Taiwanese governments maintain their own forms of the standard under different names. Technically, both Pǔtōnghuà and Guóyǔ base their phonology on the Beijing accent, though Pǔtōnghuà also takes some elements from other sources. Comparison of dictionaries produced in the two areas will show that there are few substantial differences. However, both versions of \"school-standard\" Chinese are often quite different from the Mandarin varieties that are spoken in accordance with regional habits, and neither is wholly identical to the Beijing dialect. Pǔtōnghuà and Guóyǔ also have some differences from the Beijing dialect in vocabulary, grammar, and pragmatics.\n",
            "The written forms of Standard Chinese are also essentially equivalent, although simplified characters are used in mainland China and Singapore, while traditional characters remain in use in Taiwan, Hong Kong, and Macau. Overseas communities also tend to use traditional Chinese characters, although younger generations in Malaysia increasingly use simplified characters due to influence from Singapore and mainland China.\n",
            "\n",
            "\n",
            "== Geographic distribution ==\n",
            "\n",
            "\n",
            "=== Mainland China ===\n",
            "Most Han Chinese living in northern and southwestern China are native speakers of a dialect of Mandarin. The North China Plain provided few barriers to migration, leading to relative linguistic homogeneity over a wide area in northern China. In contrast, the mountains and rivers of southern China have spawned the other six major groups of Chinese varieties, with great internal diversity, particularly in Fujian.However, the varieties of Mandarin cover a huge area containing nearly a billion people. As a result, there are pronounced regional variations in pronunciation, vocabulary, and grammar, and many Mandarin varieties are not mutually intelligible.Most of northeastern China, except for Liaoning, did not receive significant settlements by Han Chinese until the 18th century, and as a result the Northeastern Mandarin dialects spoken there differ little from the Beijing dialect. The Manchu people of the area now speak these dialects exclusively; their native language is only maintained in northwestern Xinjiang, where Xibe, a modern dialect, is spoken.The frontier areas of Northwest China were colonized by speakers of Mandarin dialects at the same time, and the dialects in those areas similarly closely resemble their relatives in the core Mandarin area. The Southwest was settled early, but the population fell dramatically for obscure reasons in the 13th century, and did not recover until the 17th century. The dialects in this area are now relatively uniform. However, long-established cities even very close to Beijing, such as Tianjin, Baoding, Shenyang, and Dalian, have markedly different dialects.\n",
            "While Standard Mandarin was adopted as China's official language in the early 1900s, local languages continued to be dominant in their respective regions until the establishment of the People's Republic in 1949 and its promotion of this standard variant. Starting in the Cultural Revolution and intensifying afterwards, the Chinese Communist Party (CCP) has adopted a language policy that pushes for the usage of Standard Mandarin at the expense of other Chinese varieties, including the prohibition of their use in most public settings. As a result, Mandarin is now widespread throughout the country, including in regions where the language is not native.\n",
            "This language policy has proven to be largely successful, with over 80% of the Chinese population being able to speak Standard Mandarin as of 2020. Nevertheless, despite active discouragement by the CCP, local Chinese and other ethnic languages continue to be the primary medium of communication in daily life in a handful of regions, most notably Guangdong (where Cantonese predominates) and Tibet. Elsewhere in China, Standard Mandarin has heavily influenced local languages through diglossia or in some cases, replaced them entirely (especially among younger generations in urban areas). The Chinese government's current goal is to have 85% of China speak Standard Mandarin by 2025 and for virtually the entire country to speak the language by 2035.Unlike their compatriots on the southeast coast, few Mandarin speakers engaged in overseas emigration until the late 20th century, but there are now significant communities of them in cities across the world.\n",
            "\n",
            "\n",
            "=== Taiwan ===\n",
            "\n",
            "Standard Mandarin is the official language of Taiwan. The Taiwanese standard of Mandarin differs very little from that of mainland China, with differences largely in some technical vocabulary developed from the 1950s onwards.Mandarin started to become widely spoken in Taiwan following the Kuomintang's relocation and influx of refugees from the mainland at the end of the Chinese Civil War in 1949. At the time Taiwanese Hokkien, and to a lesser extent Hakka, were the Chinese languages used among the local Han Chinese population, while the Formosan languages were natively spoken by many Aboriginal populations. These languages were heavily discouraged from use throughout the martial law period from 1949 to 1987, resulting in Mandarin replacing Taiwanese as the lingua franca. Starting in the 2000s, the Taiwanese government has made efforts to recognize these local languages and they are now present in public spheres such as media and education, although Mandarin remains the common language.While the spoken standard of Taiwanese Mandarin is nearly identical to that of mainland China, the colloquial form has been heavily influenced by other local languages, especially Taiwanese. Notable differences include: the merger of retroflex sounds (zh, ch, sh, r) with the alveolar series (z, c, s), frequent mergers of the \"neutral tone\" with a word's original tone, and absence of erhua. Code-switching between Mandarin and Taiwanese Hokkien is common, as the majority of the population continues to also speak the latter as a native language.\n",
            "\n",
            "\n",
            "=== Southeast Asia ===\n",
            "\n",
            "\n",
            "==== Singapore ====\n",
            "\n",
            "Mandarin is one of the four official languages of Singapore along with English, Malay, and Tamil. Historically, it was seldom used by the Chinese Singaporean community, which primarily spoke the Southern Chinese languages of Hokkien, Teochew, Cantonese, or Hakka. The launch of the Speak Mandarin Campaign in 1979 by the government prioritized the language over traditional vernaculars in an attempt to create a common ethnic language and foster closer connections to China. This has led to a significant increase and presence of Mandarin usage in the country, coupled with a strong decline in usage of other Chinese variants.\n",
            "Standard Singaporean Mandarin is nearly identical to the standards of China and Taiwan, with minor vocabulary differences. It is the Mandarin variant used in education, media, and official settings. Meanwhile, a colloquial form called Singdarin is used in informal daily life and is heavily influenced in terms of both grammar and vocabulary by local languages such as Cantonese, Hokkien, and Malay. Instances of code-switching with English, Hokkien, Cantonese, Malay, or a combination of any of these is also common.\n",
            "\n",
            "\n",
            "==== Malaysia ====\n",
            "\n",
            "In Malaysia, Mandarin has been adopted by local Chinese-language schools as the medium of instruction with the standard based on that of Singapore. However, it is not as widespread in daily life among the Malaysian Chinese community, as Hokkien speakers continue to form a plurality among the ethnic Chinese population and Cantonese serves as the common language (especially in commerce and local media). An exception is in the state of Johor, where Mandarin is increasingly used alongside Cantonese as a lingua franca in part due to Singaporean influence. As in Singapore, the local colloquial variant of Mandarin exhibits influences from Cantonese and Malay.\n",
            "\n",
            "\n",
            "==== Myanmar ====\n",
            "\n",
            "In northern Myanmar, a Southwestern Mandarin variant close to the Yunnanese dialect is spoken by local Chinese and other ethnic groups. In some rebel group-controlled regions, Mandarin also serves as the lingua franca.\n",
            "\n",
            "\n",
            "== Subgroups ==\n",
            "\n",
            "The classification of Chinese dialects evolved during the 20th century, and many points remain unsettled. Early classifications tended to follow provincial boundaries or major geographical features.In 1936, Wang Li produced the first classification based on phonetic criteria, principally the evolution of Middle Chinese voiced initials. His Mandarin group included dialects of northern and southwestern China, as well as those of Hunan and northern Jiangxi.Li Fang-Kuei's classification of 1937 distinguished the latter two groups as Xiang and Gan, while splitting the remaining Mandarin dialects between Northern, Lower Yangtze and Southwestern Mandarin groups.The widely accepted seven-group classification of Yuan Jiahua in 1960 kept Xiang and Gan separate, with Mandarin divided into Northern, Northwestern, Southwestern and Jiang–Huai (Lower Yangtze) subgroups.\n",
            "Of Yuan's four Mandarin subgroups, the Northwestern dialects are the most diverse, particularly in the province of Shanxi. The linguist Li Rong proposed that the northwestern dialects of Shanxi and neighbouring areas that retain a final glottal stop in the Middle Chinese entering tone (plosive-final) category should constitute a separate top-level group called Jin. He used this classification in the Language Atlas of China (1987). Many other linguists continue to include these dialects in the Mandarin group, pointing out that the Lower Yangtze dialects also retain the glottal stop.The southern boundary of the Mandarin area, with the central Wu, Gan and Xiang groups, is weakly defined due to centuries of diffusion of northern features. Many border varieties have a mixture of features that make them difficult to classify.\n",
            "The boundary between Southwestern Mandarin and Xiang is particularly weak, and in many early classifications the two were not separated. Zhou Zhenhe and You Rujie include the New Xiang dialects within Southwestern Mandarin, treating only the more conservative Old Xiang dialects as a separate group.\n",
            "The Huizhou dialects have features of both Mandarin and Wu, and have been assigned to one or other of these groups or treated as separate by various authors. Li Rong and the Language Atlas of China treated it as a separate top-level group, but this remains controversial.The Language Atlas of China calls the remainder of Mandarin a \"supergroup\", divided into eight dialect groups distinguished by their treatment of the Middle Chinese entering tone (see Tones below):\n",
            "Northeastern Mandarin (98 million), spoken in Manchuria except the Liaodong Peninsula. This dialect is closely related to Standard Chinese, with little variation in lexicon and very few tonal differences.\n",
            "Beijing Mandarin (27 million), spoken in Beijing and environs such as Chengde and northern Hebei, as well as some areas of recent large-scale immigration, such as northern Xinjiang. The Beijing dialect forms the basis of Standard Chinese. This classification is controversial, as a number of researchers view Beijing and Northeastern Mandarin as a single dialect group.\n",
            "Jilu Mandarin (89 million), spoken in Hebei (\"Ji\") and Shandong (\"Lu\") provinces except the Shandong Peninsula, as well as in few counties of Heilongjiang, due to migration. Includes Tianjin dialect. Tones and vocabulary are markedly different. In general, there is substantial intelligibility with Beijing Mandarin.\n",
            "Jiaoliao Mandarin (35 million), spoken in Shandong (Jiaodong) and Liaodong Peninsulas, as well as in few counties of Heilongjiang, due to migration. Very noticeable tonal changes, different in \"flavour\" from Ji–Lu Mandarin, but with more variance. There is moderate intelligibility with Beijing.\n",
            "Central Plains Mandarin (186 million), spoken in Henan province, the central parts of Shaanxi in the Yellow River valley, eastern Gansu, as well as southern Xinjiang, due to recent migration. There are significant phonological differences, with partial intelligibility with Beijing. The Dungan language spoken in Kazakhstan and Kyrgyzstan belongs to this group.  Dungan speakers such as the poet Iasyr Shivaza have reported being understood by speakers of the Beijing dialect, but not vice versa.\n",
            "Lanyin Mandarin (17 million), spoken in central and western Gansu province (with capital Lanzhou) and Ningxia autonomous region (with capital Yinchuan), as well as northern Xinjiang.\n",
            "Lower Yangtze Mandarin (or Jiang–Huai, 86 million), spoken in the parts of Jiangsu and Anhui on the north bank of the Yangtze, as well as some areas on the south bank, such as Nanjing in Jiangsu, Jiujiang in Jiangxi, etc. There are significant phonological and lexical changes to varying degrees, and intelligibility with Beijing is limited. Lower Yangtze Mandarin has been significantly influenced by Wu Chinese.\n",
            "Southwestern Mandarin (260 million), spoken in the provinces of Hubei, Sichuan, Guizhou, Yunnan, and the Mandarin-speaking areas of Hunan, Guangxi and southern Shaanxi. There are sharp phonological, lexical, and tonal changes, and intelligibility with Beijing is limited to varying degrees.The Atlas also includes several unclassified Mandarin dialects spoken in scattered pockets across southeastern China, such as Nanping in Fujian and Dongfang on Hainan.\n",
            "Another Mandarin variety of uncertain classification is apparently Gyami, recorded in the 19th century in the Tibetan foothills, who the Chinese apparently did not recognize as Chinese.\n",
            "\n",
            "\n",
            "== Phonology ==\n",
            "\n",
            "A syllable consists maximally of an initial consonant, a medial glide, a vowel, a coda, and tone. In the traditional analysis, the medial, vowel and coda are combined as a final.\n",
            "Not all combinations occur. For example, Standard Chinese (based on the Beijing dialect) has about 1,200 distinct syllables.Phonological features that are generally shared by the Mandarin dialects include:\n",
            "\n",
            "the palatalization of velar consonants and alveolar sibilants when they occur before palatal glides;\n",
            "one syllable contains maximum four phonemes (maximum three vowels and no consonant cluster)\n",
            "the disappearance of final stop consonants and /-m/ (although in many Lower Yangtze Mandarin and Jin Chinese dialects, an echo of the final stops is preserved as a glottal stop);\n",
            "the presence of retroflex consonants (although these are absent in many Southwestern and Northeastern Mandarin dialects);\n",
            "the historical devoicing of stops and sibilants (also common to most non-Mandarin varieties).\n",
            "\n",
            "\n",
            "=== Initials ===\n",
            "The maximal inventory of initials of a Mandarin dialect is as follows, with bracketed pinyin spellings given for those present in the standard language:\n",
            "Most Mandarin-speaking areas distinguish between the retroflex initials /ʈʂ ʈʂʰ ʂ/ from the apical sibilants /ts tsʰ s/, though they often have a different distribution than in the standard language.  In most dialects of the southeast and southwest the retroflex initials have merged with the alveolar sibilants, so that zhi becomes zi, chi becomes ci, and shi becomes si.\n",
            "The alveolo-palatal sibilants /tɕ tɕʰ ɕ/ are the result of merger between the historical palatalized velars /kj kʰj xj/ and palatalized alveolar sibilants /tsj tsʰj sj/. In about 20% of dialects, the alveolar sibilants did not palatalize, remaining separate from the alveolo-palatal initials. (The unique pronunciation used in Peking opera falls into this category.) On the other side, in some dialects of eastern Shandong, the velar initials did not undergo palatalization.\n",
            "Many southwestern Mandarin dialects mix /f/ and /xw/, substituting one for the other in some or all cases. For example, fei /fei/ \"to fly\" and hui /xwei/ \"grey\" may be merged in these areas.\n",
            "In some dialects, initial /l/ and /n/ are not distinguished. In Southwestern Mandarin, these sounds usually merge to /n/; in Lower Yangtze Mandarin, they usually merge to /l/.\n",
            "People in many Mandarin-speaking areas may use different initial sounds where Beijing uses initial r- /ɻ/. Common variants include /j/, /l/, /n/ and /w/.\n",
            "Some dialects have initial /ŋ/ corresponding to the zero initial of the standard language.  This initial is the result of a merger of the Middle Chinese zero initial with /ŋ/ and /ʔ/.\n",
            "Many dialects of Northwestern and Central Plains Mandarin have /pf pfʰ f v/ where Beijing has /tʂw tʂʰw ʂw ɻw/. Examples include /pfu/ \"pig\" for standard zhū 豬 /tʂu/, /fei/ \"water\" for standard shuǐ 水 /ʂwei/, /vã/ \"soft\" for standard ruǎn 軟 /ɻwan/.\n",
            "\n",
            "\n",
            "=== Finals ===\n",
            "Most Mandarin dialects have three medial glides, /j/, /w/ and /ɥ/ (spelled i, u and ü in pinyin), though their incidence varies.\n",
            "The medial /w/, is lost after apical initials in several areas.\n",
            "Thus Southwestern Mandarin has /tei/ \"correct\" where the standard language has dui /twei/.\n",
            "Southwestern Mandarin also has /kai kʰai xai/ in some words where the standard has jie qie xie /tɕjɛ tɕʰjɛ ɕjɛ/. This is a stereotypical feature of southwestern Mandarin, since it is so easily noticeable. E.g. hai \"shoe\" for standard xie, gai \"street\" for standard jie.\n",
            "Mandarin dialects typically have relatively few vowels. Syllabic fricatives, as in standard zi and zhi, are common in Mandarin dialects, though they also occur elsewhere.\n",
            "The Middle Chinese off-glides /j/ and /w/ are generally preserved in Mandarin dialects, yielding several diphthongs and triphthongs in contrast to the larger sets of monophthongs common in other dialect groups (and some widely scattered Mandarin dialects).The Middle Chinese coda /m/ was still present in Old Mandarin, but has merged with /n/ in the modern dialects. In some areas (especially the southwest) final /ŋ/ has also merged with /n/. This is especially prevalent in the rhyme pairs -en/-eng /ən əŋ/ and -in/-ing /in iŋ/. As a result, jīn \"gold\" and jīng \"capital\" merge in those dialects.\n",
            "The Middle Chinese final stops have undergone a variety of developments in different Mandarin dialects (see Tones below). In Lower Yangtze dialects and some north-western dialects they have merged as a final glottal stop. In other dialects they have been lost, with varying effects on the vowel. As a result, Beijing Mandarin and Northeastern Mandarin underwent more vowel mergers than many other varieties of Mandarin. For example:\n",
            "\n",
            "R-coloring, a characteristic feature of Mandarin, works quite differently in the southwest. Whereas Beijing dialect generally removes only a final /j/ or /n/ when adding the rhotic final -r /ɻ/, in the southwest the -r replaces nearly the entire rhyme.\n",
            "\n",
            "\n",
            "=== Tones ===\n",
            "\n",
            "In general, no two Mandarin-speaking areas have exactly the same set of tone values, but most Mandarin-speaking areas have very similar tone distribution.  For example, the dialects of Jinan, Chengdu, Xi'an and so on all have four tones that correspond quite well to the Beijing dialect tones of [˥] (55), [˧˥] (35), [˨˩˦] (214), and [˥˩] (51). The exception to this rule lies in the distribution of syllables formerly ending in a stop consonant, which are treated differently in different dialects of Mandarin.Middle Chinese stops and affricates had a three-way distinction between tenuis, voiceless aspirate and voiced (or breathy voiced) consonants.\n",
            "In Mandarin dialects the voicing is generally lost, yielding voiceless aspirates in syllables with a Middle Chinese level tone and non-aspirates in other syllables.\n",
            "Of the four tones of Middle Chinese, the level, rising and departing tones have also developed into four modern tones in a uniform way across Mandarin dialects; the Middle Chinese level tone has split into two registers, conditioned on voicing of the Middle Chinese initial, while rising tone syllables with voiced obstruent initials have shifted to the departing tone.\n",
            "The following examples from the standard language illustrate the regular development common to Mandarin dialects (recall that pinyin d denotes a non-aspirate /t/, while t denotes an aspirate /tʰ/):\n",
            "\n",
            "In traditional Chinese phonology, syllables that ended in a stop in Middle Chinese (i.e. /p/, /t/ or /k/) were considered to belong to a special category known as the \"entering tone\".\n",
            "These final stops have disappeared in most Mandarin dialects, with the syllables distributed over the other four modern tones in different ways in the various Mandarin subgroups.\n",
            "In the Beijing dialect that underlies the standard language, syllables beginning with original voiceless consonants were redistributed across the four tones in a completely random pattern. For example, the three characters 积脊迹, all tsjek in Middle Chinese (William H. Baxter's transcription), are now pronounced jī, jǐ and jì respectively.  Older dictionaries such as Mathews' Chinese-English Dictionary mark characters whose pronunciation formerly ended with a stop with a superscript 5; however, this tone number is more commonly used for syllables that always have a neutral tone (see below).\n",
            "In Lower Yangtze dialects, a minority of Southwestern dialects (e.g. Minjiang) and Jin Chinese (sometimes considered non-Mandarin), former final stops were not deleted entirely, but were reduced to a glottal stop /ʔ/. (This includes the dialect of Nanjing on which the Postal Romanization was based; it transcribes the glottal stop as a trailing h.) This development is shared with Wu Chinese and is thought to represent the pronunciation of Old Mandarin. In line with traditional Chinese phonology, dialects such as Lower Yangtze and Minjiang are thus said to have five tones instead of four.  However, modern linguistics considers these syllables as having no phonemic tone at all.\n",
            "\n",
            "Although the system of tones is common across Mandarin dialects, their realization as tone contours varies widely:\n",
            "* Dialects in and around the Nantong area typically have many more than 4 tones, due to influence from the neighbouring Wu dialects.\n",
            "Mandarin dialects frequently employ neutral tones in the second syllables of words, creating syllables whose tone contour is so short and light that it is difficult or impossible to discriminate. These atonal syllables also occur in non-Mandarin dialects, but in many southern dialects the tones of all syllables are made clear.\n",
            "\n",
            "\n",
            "== Vocabulary ==\n",
            "There are more polysyllabic words in Mandarin than in all other major varieties of Chinese except Shanghainese. This is partly because Mandarin has undergone many more sound changes than have southern varieties of Chinese, and has needed to deal with many more homophones. New words have been formed by adding affixes such as lao- (老), -zi (子), -(e)r (儿/兒), and -tou (头/頭), or by compounding, e.g. by combining two words of similar meaning as in cōngmáng (匆忙), made from elements meaning \"hurried\" and \"busy\".\n",
            "A distinctive feature of southwestern Mandarin is its frequent use of noun reduplication, which is hardly used in Beijing. In Sichuan, one hears bāobāo (包包) \"handbag\" where Beijing uses bāo'r (包儿).\n",
            "There are also a small number of words that have been polysyllabic since Old Chinese, such as húdié (蝴蝶) \"butterfly\".\n",
            "The singular pronouns in Mandarin are wǒ (我) \"I\", nǐ (你 or 妳) \"you\", nín (您) \"you (formal)\", and tā (他, 她 or 它/牠) \"he/she/it\", with -men (们/們) added for the plural. Further, there is a distinction between the plural first-person pronoun zánmen (咱们/咱們), which is inclusive of the listener, and wǒmen (我们/我們), which may be exclusive of the listener. Dialects of Mandarin agree with each other quite consistently on these pronouns.  While the first and second person singular pronouns are cognate with forms in other varieties of Chinese, the rest of the pronominal system is a Mandarin innovation (e.g., Shanghainese has non 侬/儂 \"you\" and yi 伊 \"he/she\").Because of contact with Mongolian and Manchurian peoples, Mandarin (especially the Northeastern varieties) has some loanwords from these languages not present in other varieties of Chinese, such as hútòng (胡同) \"alley\". Southern Chinese varieties have borrowed from Tai, Austroasiatic, and Austronesian languages.\n",
            "There are also many Chinese words which come from foreign languages such as gāo'ěrfū (高尔夫) from golf; bǐjīní (比基尼) from bikini; hànbǎo bāo (汉堡包) from hamburger.\n",
            "In general, the greatest variation occurs in slang, in kinship terms, in names for common crops and domesticated animals, for common verbs and adjectives, and other such everyday terms. The least variation occurs in \"formal\" vocabulary—terms dealing with science, law, or government.\n",
            "\n",
            "\n",
            "== Grammar ==\n",
            "\n",
            "Chinese varieties of all periods are considered prime examples of analytic languages, relying on word order and particles instead of inflection or affixes to provide grammatical information such as person, number, tense, mood, or case.\n",
            "Although modern varieties, including the Mandarin dialects, use a small number of particles in a similar fashion to suffixes, they are still strongly analytic.The basic word order of subject–verb–object is common across Chinese dialects, but there are variations in the order of the two objects of ditransitive sentences.\n",
            "In northern dialects the indirect object precedes the direct object (as in English), for example in the Standard Chinese sentence:\n",
            "\n",
            "In southern dialects, as well as many southwestern and Lower Yangtze dialects, the objects occur in the reverse order.Most varieties of Chinese use post-verbal particles to indicate aspect, but the particles used vary.\n",
            "Most Mandarin dialects use the particle -le (了) to indicate the perfective aspect and -zhe (着/著) for the progressive aspect.\n",
            "Other Chinese varieties tend to use different particles, e.g. Cantonese zo2 咗 and gan2 紧/緊 respectively.\n",
            "The experiential aspect particle -guo (过/過) is used more widely, except in Southern Min.The subordinative particle de (的) is characteristic of Mandarin dialects.\n",
            "Some southern dialects, and a few Lower Yangtze dialects, preserve an older pattern of subordination without a marking particle, while in others a classifier fulfils the role of the Mandarin particle.Especially in conversational Chinese, sentence-final particles alter the inherent meaning of a sentence. Like much vocabulary, particles can vary a great deal with regards to the locale. For example, the particle ma (嘛), which is used in most northern dialects to denote obviousness or contention, is replaced by yo (哟) in southern usage.\n",
            "Some characters in Mandarin can be combined with others to indicate a particular meaning just like prefix and suffix in English. For example, the suffix -er which means the person who is doing the action, e.g. teacher, person who teaches. In Mandarin the character 師 has the same function, it is combined with 教, which means teach, to form the word teacher.\n",
            "List of several common Chinese prefixes and suffixes:\n",
            "\n",
            "\n",
            "== See also ==\n",
            "\n",
            "Chinese dictionary\n",
            "Transcription into Chinese characters\n",
            "Written Chinese\n",
            "Languages of China\n",
            "List of varieties of Chinese\n",
            "Linguistic Atlas of Chinese Dialects\n",
            "List of languages by number of native speakers\n",
            "\n",
            "\n",
            "== Notes ==\n",
            "\n",
            "\n",
            "== References ==\n",
            "\n",
            "\n",
            "=== Citations ===\n",
            "\n",
            "\n",
            "=== Sources ===\n",
            "Works cited\n",
            "\n",
            "\n",
            "== Further reading ==\n",
            "\n",
            "\n",
            "=== Historical Western language texts ===\n",
            "\n",
            "\n",
            "== External links ==\n",
            "Tones in Mandarin Dialects : Comprehensive tone comparison charts for 523 Mandarin dialects. (Compiled by James Campbell) – Internet Archive mirror\n"
          ]
        }
      ]
    },
    {
      "cell_type": "code",
      "source": [
        "print(full_page.url)"
      ],
      "metadata": {
        "colab": {
          "base_uri": "https://localhost:8080/"
        },
        "id": "VkX_z7bliySz",
        "outputId": "0a636222-0493-4831-9799-d182f379e4be"
      },
      "execution_count": null,
      "outputs": [
        {
          "output_type": "stream",
          "name": "stdout",
          "text": [
            "https://en.wikipedia.org/wiki/IIT_Madras\n"
          ]
        }
      ]
    },
    {
      "cell_type": "code",
      "source": [
        "print(full_page.references)"
      ],
      "metadata": {
        "colab": {
          "base_uri": "https://localhost:8080/"
        },
        "id": "7a_FAtM_i5HY",
        "outputId": "a28cb699-5405-4a92-9997-3dbb6d5455a2"
      },
      "execution_count": null,
      "outputs": [
        {
          "output_type": "stream",
          "name": "stdout",
          "text": [
            "['http://www.gov.cn/english/laws/2005-09/19/content_64906.htm', 'http://www.gov.cn/zwhd/2006-04/01/content_242068.htm', 'http://en.people.cn/n3/2020/1016/c90000-9769716.html', 'http://kramerius.lib.cas.cz/search/i.jsp?pid=uuid:e58cace2-3e46-11e1-bdd3-005056a60003', 'http://hdl.handle.net/1808%2F7090', 'http://doi.org/10.1017%2FS1356186303003134', 'http://doi.org/10.1080%2F02549948.1976.11731121', 'http://doi.org/10.1080%2F02549948.1977.11745054', 'http://doi.org/10.1515%2Flingty-2018-0009', 'http://doi.org/10.2307%2F606615', 'http://doi.org/10.2991%2Fassehr.k.201214.465', 'http://doi.org/10.3406%2Fclao.2006.1748', 'http://doi.org/10.4028%2Fwww.scientific.net%2FAMR.1030-1032.1650', 'http://glottolog.org/resource/languoid/id/mand1415', 'http://www.jstor.org/stable/23754434', 'http://www.jstor.org/stable/23827039', 'http://www.jstor.org/stable/40726247', 'http://www.jstor.org/stable/606615', 'http://www.mixedracestudies.org/wordpress/?p=20025', 'http://sino-platonic.org/complete/spp018_dungan_gyami.pdf', 'http://sino-platonic.org/complete/spp029_chinese_dialect.pdf', 'http://www.worldcat.org/oclc/680482801', 'http://rportal.lib.ntnu.edu.tw/bitstream/20.500.12235/12992/1/ntnulib_ja_B0601_0005_027.pdf', 'http://www.taiwan.gov.tw/content2.php?p=29&c=48', 'https://www.mironline.ca/the-slow-death-of-chinas-dialects/', 'https://www.atlantis-press.com/proceedings/ichess-20/125949177', 'https://www.ethnologue.com/language/cmn', 'https://abcnews.go.com/International/wireStory/china-85-citizens-mandarin-2025-81485477', 'https://books.google.com/books?id=J3suAAAAYAAJ', 'https://journals.uair.arizona.edu/index.php/AZSLAT/article/download/21223/20804', 'https://id.loc.gov/authorities/subjects/sh85080423', 'https://d-nb.info/gnd/4303978-9', 'https://kopkatalogs.lv/F?func=direct&local_base=lnc10&doc_number=000200882&P_CON_LNG=ENG', 'https://archive.org/details/colloquialchines00whymiala', 'https://archive.org/details/coursemandarin00mate', 'https://archive.org/details/fromlinguisticar00muys', 'https://archive.org/details/fromlinguisticar00muys/page/n234', 'https://archive.org/details/idiomaticdialog00balfgoog', 'https://archive.org/details/mandarinromaniz00macg', 'https://archive.org/details/modernchinesehis00chen', 'https://archive.org/details/p1dictionaryofch01morruoft', 'https://archive.org/details/portraitsofprimi0000blum', 'https://archive.org/details/standardsystemm00chingoog', 'https://archive.org/details/standardsystemm01chingoog', 'https://archive.org/details/westernmandarino00graiuoft', 'https://web.archive.org/web/20090414044508/http://www.glossika.com/en/dict/tones/guanhua.htm', 'https://web.archive.org/web/20140110090803/http://www.csie.ndhu.edu.tw/webv3/cht/speech/20091030(2).pdf', 'https://web.archive.org/web/20180510155608/http://www.sino-platonic.org/complete/spp029_chinese_dialect.pdf', 'https://www.linguisticsociety.org/sites/default/files/02e_90.4Spolsky.pdf', 'https://www.rfa.org/english/news/myanmar/in-myanmars-remote-mongla-region-09172019141648.html', 'https://api.semanticscholar.org/CorpusID:126344099', 'https://api.semanticscholar.org/CorpusID:136508776', 'https://api.semanticscholar.org/CorpusID:162258379', 'https://api.semanticscholar.org/CorpusID:234515573', 'https://www.wikidata.org/wiki/Q9192#identifiers']\n"
          ]
        }
      ]
    },
    {
      "cell_type": "code",
      "source": [
        "print(full_page.title)"
      ],
      "metadata": {
        "colab": {
          "base_uri": "https://localhost:8080/"
        },
        "id": "sb5e8KyDjidS",
        "outputId": "7deff3a3-ff00-4627-8d3b-e52a8d44ac80"
      },
      "execution_count": null,
      "outputs": [
        {
          "output_type": "stream",
          "name": "stdout",
          "text": [
            "Mandarin Chinese\n"
          ]
        }
      ]
    },
    {
      "cell_type": "code",
      "source": [
        "print(full_page.images[0])"
      ],
      "metadata": {
        "colab": {
          "base_uri": "https://localhost:8080/"
        },
        "id": "pta1RlgEjl8w",
        "outputId": "8fc02f68-7843-4d42-d673-5ac019b03b83"
      },
      "execution_count": null,
      "outputs": [
        {
          "output_type": "stream",
          "name": "stdout",
          "text": [
            "https://upload.wikimedia.org/wikipedia/commons/6/66/En-us-Mandarin.ogg\n"
          ]
        }
      ]
    },
    {
      "cell_type": "code",
      "source": [
        "#extract html code of wikipedia page based on any search text\n",
        "html = wk.page(\"Mandarin Chinese\").html().encode(\"UTF-8\") \n",
        "\n",
        "import pandas as pd\n",
        "df = pd.read_html(html)[6]  \n",
        "\n",
        "df"
      ],
      "metadata": {
        "colab": {
          "base_uri": "https://localhost:8080/",
          "height": 285
        },
        "id": "m0A1NGQ_jm6V",
        "outputId": "9276b8bf-7c9b-44ef-8f67-231f2f2d460d"
      },
      "execution_count": null,
      "outputs": [
        {
          "output_type": "execute_result",
          "data": {
            "text/html": [
              "\n",
              "  <div id=\"df-459de5d1-dfd0-4458-9ba6-e2384124a667\">\n",
              "    <div class=\"colab-df-container\">\n",
              "      <div>\n",
              "<style scoped>\n",
              "    .dataframe tbody tr th:only-of-type {\n",
              "        vertical-align: middle;\n",
              "    }\n",
              "\n",
              "    .dataframe tbody tr th {\n",
              "        vertical-align: top;\n",
              "    }\n",
              "\n",
              "    .dataframe thead tr th {\n",
              "        text-align: left;\n",
              "    }\n",
              "</style>\n",
              "<table border=\"1\" class=\"dataframe\">\n",
              "  <thead>\n",
              "    <tr>\n",
              "      <th></th>\n",
              "      <th>Character</th>\n",
              "      <th>Meaning</th>\n",
              "      <th colspan=\"2\" halign=\"left\">Standard(Beijing)</th>\n",
              "      <th>Beijing, HarbinColloquial</th>\n",
              "      <th>Jinan(JiâLu)</th>\n",
              "      <th>Xi'an(Central Plains)</th>\n",
              "      <th>Chengdu(Southwestern)</th>\n",
              "      <th>Yangzhou(Lower Yangtze)</th>\n",
              "      <th>Middle ChineseReconstructed</th>\n",
              "    </tr>\n",
              "    <tr>\n",
              "      <th></th>\n",
              "      <th>Character</th>\n",
              "      <th>Meaning</th>\n",
              "      <th>Pinyin</th>\n",
              "      <th>IPA</th>\n",
              "      <th>Beijing, HarbinColloquial</th>\n",
              "      <th>Jinan(JiâLu)</th>\n",
              "      <th>Xi'an(Central Plains)</th>\n",
              "      <th>Chengdu(Southwestern)</th>\n",
              "      <th>Yangzhou(Lower Yangtze)</th>\n",
              "      <th>Middle ChineseReconstructed</th>\n",
              "    </tr>\n",
              "  </thead>\n",
              "  <tbody>\n",
              "    <tr>\n",
              "      <th>0</th>\n",
              "      <td>è¯¾</td>\n",
              "      <td>lesson</td>\n",
              "      <td>kÃ¨</td>\n",
              "      <td>kÊ°É¤</td>\n",
              "      <td>kÊ°É¤</td>\n",
              "      <td>kÊ°É</td>\n",
              "      <td>kÊ°wo</td>\n",
              "      <td>kÊ°o</td>\n",
              "      <td>kÊ°o</td>\n",
              "      <td>kÊ°É</td>\n",
              "    </tr>\n",
              "    <tr>\n",
              "      <th>1</th>\n",
              "      <td>å®¢</td>\n",
              "      <td>guest</td>\n",
              "      <td>kÃ¨</td>\n",
              "      <td>kÊ°É¤</td>\n",
              "      <td>tÉÊ°ie[d]</td>\n",
              "      <td>kÊ°ei</td>\n",
              "      <td>kÊ°ei</td>\n",
              "      <td>kÊ°e</td>\n",
              "      <td>kÊ°ÉÊ</td>\n",
              "      <td>kÊ°É°ak</td>\n",
              "    </tr>\n",
              "    <tr>\n",
              "      <th>2</th>\n",
              "      <td>æ</td>\n",
              "      <td>fruit</td>\n",
              "      <td>guÇ</td>\n",
              "      <td>kwo</td>\n",
              "      <td>kwo</td>\n",
              "      <td>kwÉ</td>\n",
              "      <td>kwo</td>\n",
              "      <td>ko</td>\n",
              "      <td>ko</td>\n",
              "      <td>kwÉ</td>\n",
              "    </tr>\n",
              "    <tr>\n",
              "      <th>3</th>\n",
              "      <td>å½</td>\n",
              "      <td>country</td>\n",
              "      <td>guÃ³</td>\n",
              "      <td>kwo</td>\n",
              "      <td>kwo</td>\n",
              "      <td>kwÉ</td>\n",
              "      <td>kwe</td>\n",
              "      <td>kwe</td>\n",
              "      <td>kÉÊ</td>\n",
              "      <td>kwÉk</td>\n",
              "    </tr>\n",
              "  </tbody>\n",
              "</table>\n",
              "</div>\n",
              "      <button class=\"colab-df-convert\" onclick=\"convertToInteractive('df-459de5d1-dfd0-4458-9ba6-e2384124a667')\"\n",
              "              title=\"Convert this dataframe to an interactive table.\"\n",
              "              style=\"display:none;\">\n",
              "        \n",
              "  <svg xmlns=\"http://www.w3.org/2000/svg\" height=\"24px\"viewBox=\"0 0 24 24\"\n",
              "       width=\"24px\">\n",
              "    <path d=\"M0 0h24v24H0V0z\" fill=\"none\"/>\n",
              "    <path d=\"M18.56 5.44l.94 2.06.94-2.06 2.06-.94-2.06-.94-.94-2.06-.94 2.06-2.06.94zm-11 1L8.5 8.5l.94-2.06 2.06-.94-2.06-.94L8.5 2.5l-.94 2.06-2.06.94zm10 10l.94 2.06.94-2.06 2.06-.94-2.06-.94-.94-2.06-.94 2.06-2.06.94z\"/><path d=\"M17.41 7.96l-1.37-1.37c-.4-.4-.92-.59-1.43-.59-.52 0-1.04.2-1.43.59L10.3 9.45l-7.72 7.72c-.78.78-.78 2.05 0 2.83L4 21.41c.39.39.9.59 1.41.59.51 0 1.02-.2 1.41-.59l7.78-7.78 2.81-2.81c.8-.78.8-2.07 0-2.86zM5.41 20L4 18.59l7.72-7.72 1.47 1.35L5.41 20z\"/>\n",
              "  </svg>\n",
              "      </button>\n",
              "      \n",
              "  <style>\n",
              "    .colab-df-container {\n",
              "      display:flex;\n",
              "      flex-wrap:wrap;\n",
              "      gap: 12px;\n",
              "    }\n",
              "\n",
              "    .colab-df-convert {\n",
              "      background-color: #E8F0FE;\n",
              "      border: none;\n",
              "      border-radius: 50%;\n",
              "      cursor: pointer;\n",
              "      display: none;\n",
              "      fill: #1967D2;\n",
              "      height: 32px;\n",
              "      padding: 0 0 0 0;\n",
              "      width: 32px;\n",
              "    }\n",
              "\n",
              "    .colab-df-convert:hover {\n",
              "      background-color: #E2EBFA;\n",
              "      box-shadow: 0px 1px 2px rgba(60, 64, 67, 0.3), 0px 1px 3px 1px rgba(60, 64, 67, 0.15);\n",
              "      fill: #174EA6;\n",
              "    }\n",
              "\n",
              "    [theme=dark] .colab-df-convert {\n",
              "      background-color: #3B4455;\n",
              "      fill: #D2E3FC;\n",
              "    }\n",
              "\n",
              "    [theme=dark] .colab-df-convert:hover {\n",
              "      background-color: #434B5C;\n",
              "      box-shadow: 0px 1px 3px 1px rgba(0, 0, 0, 0.15);\n",
              "      filter: drop-shadow(0px 1px 2px rgba(0, 0, 0, 0.3));\n",
              "      fill: #FFFFFF;\n",
              "    }\n",
              "  </style>\n",
              "\n",
              "      <script>\n",
              "        const buttonEl =\n",
              "          document.querySelector('#df-459de5d1-dfd0-4458-9ba6-e2384124a667 button.colab-df-convert');\n",
              "        buttonEl.style.display =\n",
              "          google.colab.kernel.accessAllowed ? 'block' : 'none';\n",
              "\n",
              "        async function convertToInteractive(key) {\n",
              "          const element = document.querySelector('#df-459de5d1-dfd0-4458-9ba6-e2384124a667');\n",
              "          const dataTable =\n",
              "            await google.colab.kernel.invokeFunction('convertToInteractive',\n",
              "                                                     [key], {});\n",
              "          if (!dataTable) return;\n",
              "\n",
              "          const docLinkHtml = 'Like what you see? Visit the ' +\n",
              "            '<a target=\"_blank\" href=https://colab.research.google.com/notebooks/data_table.ipynb>data table notebook</a>'\n",
              "            + ' to learn more about interactive tables.';\n",
              "          element.innerHTML = '';\n",
              "          dataTable['output_type'] = 'display_data';\n",
              "          await google.colab.output.renderOutput(dataTable, element);\n",
              "          const docLink = document.createElement('div');\n",
              "          docLink.innerHTML = docLinkHtml;\n",
              "          element.appendChild(docLink);\n",
              "        }\n",
              "      </script>\n",
              "    </div>\n",
              "  </div>\n",
              "  "
            ],
            "text/plain": [
              "  Character  Meaning  ... Yangzhou(Lower Yangtze) Middle ChineseReconstructed\n",
              "  Character  Meaning  ... Yangzhou(Lower Yangtze) Middle ChineseReconstructed\n",
              "0       è¯¾   lesson  ...                    kÊ°o                       kÊ°É\n",
              "1       å®¢    guest  ...                 kÊ°ÉÊ                     kÊ°É°ak\n",
              "2       æ    fruit  ...                      ko                        kwÉ\n",
              "3       å½  country  ...                   kÉÊ                       kwÉk\n",
              "\n",
              "[4 rows x 10 columns]"
            ]
          },
          "metadata": {},
          "execution_count": 39
        }
      ]
    }
  ]
}